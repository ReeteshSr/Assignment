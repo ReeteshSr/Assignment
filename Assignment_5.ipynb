{
 "cells": [
  {
   "cell_type": "markdown",
   "id": "2c88954c-1ef1-46e9-8625-2f2204c47bbd",
   "metadata": {},
   "source": [
    "Python class is a collection of objects and contains blueprint from which objects are created.\n",
    "The object is an entity that has a state and behavior associated with it. It may be any real-world object like a mouse, keyboard, chair, table, pen, etc.\n",
    "ex:\n",
    "Class car:      #creates class\n",
    "  def engine_cc:\n",
    "    pass\n",
    "  def cylinder:\n",
    "    pass\n",
    "    \n",
    " ob = car() # creates object of class Car \n",
    " "
   ]
  },
  {
   "cell_type": "markdown",
   "id": "b4e62af4-191d-4db8-99c9-5abe67175c88",
   "metadata": {},
   "source": [
    "Q2:\n",
    " Four pillars of OOPs are:\n",
    " 1. Encapsulation.\n",
    " 2. Polymorphism.\n",
    " 3. Inheritence\n",
    " 4. Data abstraction.\n",
    " "
   ]
  },
  {
   "cell_type": "markdown",
   "id": "743e73b3-b8d2-419f-82c2-f2f78f3a08d7",
   "metadata": {},
   "source": [
    "Q3:\n",
    "  The __init__ method is similar to constructors in C++ and Java. It is run as soon as an object of a class is instantiated.  \n",
    "  \n",
    "  Class car:      #creates class\n",
    "  def __init__(car_name):   #constructor is run as soon as object of class is created.\n",
    "    self.name = car_name\n",
    "  def engine_cc:\n",
    "    pass\n",
    "  def cylinder:\n",
    "    pass\n",
    "    \n",
    " ob = car() # creates object of class Car"
   ]
  },
  {
   "cell_type": "markdown",
   "id": "4e8cc11c-6d96-4a2a-9743-d0fa6cd86783",
   "metadata": {},
   "source": [
    "Q4:\n",
    "    Self in OOPs is used to point to the object of the class. It is used for assigning values to the instance variables of class.\n",
    "    "
   ]
  },
  {
   "cell_type": "markdown",
   "id": "f263c099-e261-4390-9169-23cdf6aaac3f",
   "metadata": {},
   "source": [
    "Q5:\n",
    "    Inheritance is the capability of one class to derive or inherit the properties from another class. The class that derives properties is called the derived class or child class and the class from which the properties are being derived is called the base class or parent class. "
   ]
  }
 ],
 "metadata": {
  "kernelspec": {
   "display_name": "Python 3 (ipykernel)",
   "language": "python",
   "name": "python3"
  },
  "language_info": {
   "codemirror_mode": {
    "name": "ipython",
    "version": 3
   },
   "file_extension": ".py",
   "mimetype": "text/x-python",
   "name": "python",
   "nbconvert_exporter": "python",
   "pygments_lexer": "ipython3",
   "version": "3.10.8"
  }
 },
 "nbformat": 4,
 "nbformat_minor": 5
}
