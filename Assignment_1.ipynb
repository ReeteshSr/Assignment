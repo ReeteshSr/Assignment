{
 "cells": [
  {
   "cell_type": "markdown",
   "id": "62932dc2-207c-46bb-8cbb-c91b47b36cdb",
   "metadata": {},
   "source": [
    "Question-1:\n"
   ]
  },
  {
   "cell_type": "code",
   "execution_count": 1,
   "id": "0810885a-eab9-4c41-b868-257130d7832d",
   "metadata": {},
   "outputs": [],
   "source": [
    "a = 'reetesh'\n",
    "b = [1,2,'s',3]\n",
    "c = 2.23\n",
    "d = (1,2,3)\n"
   ]
  },
  {
   "cell_type": "markdown",
   "id": "2bffe037-287a-45c0-84cf-09881720920d",
   "metadata": {},
   "source": [
    "Question-2:\n",
    "\n",
    "var1 : String\n",
    "var2 : String\n",
    "var3 : list\n",
    "var4 : int"
   ]
  },
  {
   "cell_type": "markdown",
   "id": "5a66ddbb-a477-468b-8614-aafd150a9454",
   "metadata": {},
   "source": [
    "Question-3:\n",
    "\n"
   ]
  },
  {
   "cell_type": "code",
   "execution_count": 2,
   "id": "2ffb2c21-4462-4297-880f-dbd6cca50d52",
   "metadata": {},
   "outputs": [
    {
     "name": "stdout",
     "output_type": "stream",
     "text": [
      "2.5 1 2 25\n"
     ]
    }
   ],
   "source": [
    "a = 5\n",
    "b = 2\n",
    "c = a/b  #'/' used for airthmetic divison.\n",
    "d = a%b  #'%' used for getting the remainder after dividing its first operand by its second.\n",
    "e = a // b #'//' used for floor divison.\n",
    "f = a**b #'**' used for raising the power of first operand by second one\n",
    "print (c,d,e,f)"
   ]
  },
  {
   "cell_type": "markdown",
   "id": "ac0dff6c-2e16-41ee-8812-fa16bfb72284",
   "metadata": {},
   "source": [
    "Question-4:"
   ]
  },
  {
   "cell_type": "code",
   "execution_count": 10,
   "id": "3314e1a8-4071-4ba5-97b9-584e2675d28c",
   "metadata": {},
   "outputs": [
    {
     "name": "stdout",
     "output_type": "stream",
     "text": [
      "data type of 1 is <class 'int'> \n",
      "data type of 2 is <class 'int'> \n",
      "data type of 2.5 is <class 'float'> \n",
      "data type of reetesh is <class 'str'> \n",
      "data type of True is <class 'bool'> \n",
      "data type of 9 is <class 'int'> \n",
      "data type of 56.5 is <class 'float'> \n",
      "data type of a is <class 'str'> \n",
      "data type of 6.45 is <class 'float'> \n",
      "data type of 5 is <class 'int'> \n"
     ]
    }
   ],
   "source": [
    "l = [1,2,2.5,'reetesh',True,9,56.5,'a',6.45,5]\n",
    "for i in l:\n",
    "    print (f\"data type of {i} is {type(i)} \")\n",
    "    "
   ]
  },
  {
   "cell_type": "markdown",
   "id": "c744fc03-6428-4853-882e-2f15daccc390",
   "metadata": {},
   "source": [
    "Question-5:"
   ]
  },
  {
   "cell_type": "code",
   "execution_count": 14,
   "id": "02bd536a-49e8-4072-be97-976f6634c928",
   "metadata": {},
   "outputs": [
    {
     "name": "stdin",
     "output_type": "stream",
     "text": [
      "enter value of a 50\n",
      "enter value of b 2\n"
     ]
    },
    {
     "name": "stdout",
     "output_type": "stream",
     "text": [
      "50 is divisible by 2\n",
      "1\n"
     ]
    }
   ],
   "source": [
    "a = int(input(\"enter value of a\"))\n",
    "b = int(input(\"enter value of b\"))\n",
    "count=0\n",
    "if a%b==0:\n",
    "    print(f\"{a} is divisible by {b}\")\n",
    "    while a%b == 0:\n",
    "        count+=1\n",
    "        a=a/b\n",
    "print(count)"
   ]
  },
  {
   "cell_type": "markdown",
   "id": "513c5dbe-15de-4e3b-a5c3-96b18b3e6f69",
   "metadata": {},
   "source": [
    "Question-6"
   ]
  },
  {
   "cell_type": "code",
   "execution_count": 18,
   "id": "a49b5c45-6eac-420c-9464-131138075f46",
   "metadata": {},
   "outputs": [
    {
     "name": "stdout",
     "output_type": "stream",
     "text": [
      "3 is divisible by 3\n",
      "6 is divisible by 3\n",
      "9 is divisible by 3\n",
      "12 is divisible by 3\n",
      "15 is divisible by 3\n",
      "18 is divisible by 3\n",
      "21 is divisible by 3\n",
      "24 is divisible by 3\n"
     ]
    }
   ],
   "source": [
    "l = list(range(1,26))\n",
    "for i in l:\n",
    "    if i%3 == 0:\n",
    "        print(f\"{i} is divisible by 3\")"
   ]
  },
  {
   "cell_type": "markdown",
   "id": "8c4f42e4-261b-484a-8385-3642a5e578ea",
   "metadata": {},
   "source": [
    "Question-7:"
   ]
  },
  {
   "cell_type": "markdown",
   "id": "807d4285-7c6e-4b69-bf5a-f9cd7b2e1989",
   "metadata": {},
   "source": [
    "Mutable data types are such data types in which value of a data type can be changed without creating new object.\n",
    "\n",
    "eg:- Lists :- In list object we can change value at a particular index without changing the object.\n",
    "\n",
    "Immutable data types are such data types in which value of a data type cannot be changed without creating new object.\n",
    "\n",
    "eg:- String :- In string object we cannot change value at a particular index without changing the object."
   ]
  }
 ],
 "metadata": {
  "kernelspec": {
   "display_name": "Python 3 (ipykernel)",
   "language": "python",
   "name": "python3"
  },
  "language_info": {
   "codemirror_mode": {
    "name": "ipython",
    "version": 3
   },
   "file_extension": ".py",
   "mimetype": "text/x-python",
   "name": "python",
   "nbconvert_exporter": "python",
   "pygments_lexer": "ipython3",
   "version": "3.10.8"
  }
 },
 "nbformat": 4,
 "nbformat_minor": 5
}
