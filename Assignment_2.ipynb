{
 "cells": [
  {
   "cell_type": "markdown",
   "id": "7a819971-1a5c-423c-ba2e-77a87c9b1af0",
   "metadata": {},
   "source": [
    "Q1:\n",
    "Comments can be done in python using '#'\n",
    "for eg:"
   ]
  },
  {
   "cell_type": "code",
   "execution_count": 1,
   "id": "9b14c920-4f5e-4463-954e-f483a809825d",
   "metadata": {},
   "outputs": [],
   "source": [
    "def func():\n",
    "    pass #this is a function"
   ]
  },
  {
   "cell_type": "markdown",
   "id": "e69ebe7d-69cc-4cff-9932-2d27f0c29b74",
   "metadata": {},
   "source": [
    "Q2: Variables in python are the pointers used to point to a specific memory location.\n"
   ]
  },
  {
   "cell_type": "code",
   "execution_count": 2,
   "id": "d6363954-edeb-42f5-86bc-d6c11dc98746",
   "metadata": {},
   "outputs": [],
   "source": [
    "a = 5 #variable is declared and initialized as soon as it is assigned in python using assignment operator."
   ]
  },
  {
   "cell_type": "markdown",
   "id": "176fda89-defe-4bc3-b2fc-c0a006d1e016",
   "metadata": {},
   "source": [
    "Q3: Data types in python can be converted using explicit methods.\n",
    "for eg:\n",
    "\n",
    "s= \"1011\" can be converted to integer type by typecasting s.\n",
    "i = int(s)"
   ]
  },
  {
   "cell_type": "markdown",
   "id": "00ceb2aa-1498-4caf-90f3-ebf525452e1f",
   "metadata": {},
   "source": [
    "Q4: Write python code in text editor then open cmd in windows,all you need to do is type python followed by the script name. You’ll need to make sure that your terminal’s working directory is the directory that contains your python script, or give the full path to the script. "
   ]
  },
  {
   "cell_type": "code",
   "execution_count": 1,
   "id": "22d78db7-ed2e-4124-89f8-4d3471c3ff88",
   "metadata": {},
   "outputs": [
    {
     "name": "stdout",
     "output_type": "stream",
     "text": [
      "[2, 3]\n"
     ]
    }
   ],
   "source": [
    "#Q5:\n",
    "my_list = [1, 2, 3, 4, 5]\n",
    "sub_list = my_list[1:3]\n",
    "print(sub_list)\n"
   ]
  },
  {
   "cell_type": "code",
   "execution_count": 3,
   "id": "6aa76ea3-1bb8-462f-82e6-26da56489d95",
   "metadata": {},
   "outputs": [],
   "source": [
    "#Q6: Complex number is a number having real and imaginary part, eg: 2+3j,where 2 is real part and 3 is imaginary part.\n",
    "\n",
    "a = 2+3j #complex number representation in python"
   ]
  },
  {
   "cell_type": "code",
   "execution_count": 5,
   "id": "32bc11cf-ce9e-488d-b49b-c2bb95ef9c16",
   "metadata": {},
   "outputs": [],
   "source": [
    "#Q7: Correct way to declare variable named age is by assigning value to it\n",
    "age  = 25"
   ]
  },
  {
   "cell_type": "code",
   "execution_count": 6,
   "id": "948a49e1-af11-454e-a4e9-26d8d3882a8d",
   "metadata": {},
   "outputs": [],
   "source": [
    "#Q8:\n",
    "price = 9.99 #this data type belongs to float data type"
   ]
  },
  {
   "cell_type": "code",
   "execution_count": 7,
   "id": "dd69c6b0-1f95-49df-befd-92b5152cfa24",
   "metadata": {},
   "outputs": [
    {
     "name": "stdout",
     "output_type": "stream",
     "text": [
      "REETESH\n"
     ]
    }
   ],
   "source": [
    "#Q9:\n",
    "name = \"REETESH\"\n",
    "print (name)"
   ]
  },
  {
   "cell_type": "code",
   "execution_count": 11,
   "id": "14761cf5-9105-4fc5-8cf3-09d5f225d4e3",
   "metadata": {},
   "outputs": [
    {
     "name": "stdout",
     "output_type": "stream",
     "text": [
      " World\n"
     ]
    }
   ],
   "source": [
    "#Q10:\n",
    "str = \"Hello, World!\"\n",
    "list = str.split(',')\n",
    "print(list[1][:6])"
   ]
  },
  {
   "cell_type": "code",
   "execution_count": 12,
   "id": "79aeda39-d3ed-47b1-bacc-a9935b225df5",
   "metadata": {},
   "outputs": [],
   "source": [
    "#Q11:\n",
    "is_student = False"
   ]
  },
  {
   "cell_type": "code",
   "execution_count": null,
   "id": "7a4ab9f4-089f-4622-ba08-538d840f34b7",
   "metadata": {},
   "outputs": [],
   "source": []
  }
 ],
 "metadata": {
  "kernelspec": {
   "display_name": "Python 3 (ipykernel)",
   "language": "python",
   "name": "python3"
  },
  "language_info": {
   "codemirror_mode": {
    "name": "ipython",
    "version": 3
   },
   "file_extension": ".py",
   "mimetype": "text/x-python",
   "name": "python",
   "nbconvert_exporter": "python",
   "pygments_lexer": "ipython3",
   "version": "3.10.8"
  }
 },
 "nbformat": 4,
 "nbformat_minor": 5
}
