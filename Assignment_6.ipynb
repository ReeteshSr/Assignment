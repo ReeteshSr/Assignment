{
 "cells": [
  {
   "cell_type": "markdown",
   "id": "b31ac595-38ff-4c1d-b68c-4141ff39e12e",
   "metadata": {},
   "source": [
    "### Q1:\n",
    "    Data abstraction hides unnecessary code details from the user. Also,  when we do not want to give out sensitive parts of our code implementation and this is where data abstraction came.\n",
    "    Data Abstraction in Python can be achieved by creating abstract classes.\n",
    "    eg:\n",
    "     We use the TV remote to switch the TV ON or OFF, switch to different channels, and raise or lower the volume. The TV user only knows he/she may use the buttons on the remote to do it. What they don’t know is how all this is happening internally, for example how the TV sensor is capturing signals from the TV remote and then how it is processing the received signals to perform the required action of changing the channel, etc. All the internal functionality is hidden, as for the user it might not be necessary for them to know how that is happening.\n",
    "     \n",
    "     "
   ]
  },
  {
   "cell_type": "markdown",
   "id": "ac81fc19-9cd7-4ada-b844-a9206b3282d0",
   "metadata": {},
   "source": [
    "### Q2: \n",
    "Abstraction shows only useful data by providing the most necessary details, whereas Encapsulation wraps code and data for necessary information.\n",
    " eg:\n",
    " Encapsulation:-- Information hiding.\n",
    "Abstraction:-- Implementation hiding.\n",
    "\n",
    "Examples:\n",
    "Abstraction: Only necessary information is shown. Let's focus on the example of switching on a computer. The user does not have to know what goes on while the system is still loading (that information is hidden from the user).\n",
    "\n",
    "Let's take another example, that of the ATM. The customer does not need to know how the machine reads the PIN and processes the transaction, all he needs to do is enter the PIN, take the cash and leave.\n",
    "\n",
    "Encapsulation: Deals with hiding the sensitive data of a clas hence privatising part of it. It is a way of keeping some information private to its clients by allowing no access to it from outside."
   ]
  },
  {
   "cell_type": "markdown",
   "id": "2ea92b2e-3daa-42e0-b8d5-6644f0375e22",
   "metadata": {},
   "source": [
    "### Q3:\n",
    "\n"
   ]
  },
  {
   "cell_type": "markdown",
   "id": "4d07f72d-672c-413d-ab40-11b8934d222e",
   "metadata": {},
   "source": [
    "The Python abc module provides the functionalities to define and use abstract classes.\n",
    "Abstract classes give us a standard way of developing our code even if you have multiple developers working on a project.\n",
    "\n",
    "The main goal of the abstract base class is to provide a standardized way to test whether an object adheres to a given specification. It can also prevent any attempt to instantiate a subclass that doesn’t override a particular method in the superclass. And finally, using an abstract class, a class can derive identity from another class without any object inheritance."
   ]
  },
  {
   "cell_type": "markdown",
   "id": "0b3e83db-422e-4e40-8ce4-8f6ef454ba7f",
   "metadata": {},
   "source": [
    "### Q4:"
   ]
  },
  {
   "cell_type": "code",
   "execution_count": 4,
   "id": "b668089f-d995-467f-8070-9dfc0d5e0b19",
   "metadata": {},
   "outputs": [],
   "source": [
    "#We can define an abstract method using @abstractmethod keyword on the top of a method. We can use abc module of python to achieve data abstraction in python. To define an abstract #method in python we can import abstractmethod from the abc module of python. Let’s understand how to define data abstraction in python with help of an example.\n",
    "\n",
    "# abstraction in python\n",
    "from abc import ABC,abstractmethod\n",
    "class Prepbytes(ABC):\n",
    "    @abstractmethod\n",
    "    def my_method(self):\n",
    "        # body will always be empty\n",
    "        Pass"
   ]
  },
  {
   "cell_type": "code",
   "execution_count": null,
   "id": "98810938-33f4-48e0-a94c-0f1af8c0ae68",
   "metadata": {},
   "outputs": [],
   "source": []
  }
 ],
 "metadata": {
  "kernelspec": {
   "display_name": "Python 3 (ipykernel)",
   "language": "python",
   "name": "python3"
  },
  "language_info": {
   "codemirror_mode": {
    "name": "ipython",
    "version": 3
   },
   "file_extension": ".py",
   "mimetype": "text/x-python",
   "name": "python",
   "nbconvert_exporter": "python",
   "pygments_lexer": "ipython3",
   "version": "3.10.8"
  }
 },
 "nbformat": 4,
 "nbformat_minor": 5
}
