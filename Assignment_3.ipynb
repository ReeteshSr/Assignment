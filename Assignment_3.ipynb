{
 "cells": [
  {
   "cell_type": "code",
   "execution_count": 8,
   "id": "ace72074-243d-4598-9214-db58db18c293",
   "metadata": {},
   "outputs": [],
   "source": [
    "#Q1: Def keyword is used to define a function.\n",
    "def func():\n",
    "    l=[]\n",
    "    for i in range(1,26):\n",
    "        if i%2 != 0:\n",
    "            l.append(i)\n",
    "    return l\n",
    "            \n",
    "\n"
   ]
  },
  {
   "cell_type": "code",
   "execution_count": 9,
   "id": "2d705a7a-ae5a-4b88-9f6a-c11cdf82292a",
   "metadata": {},
   "outputs": [
    {
     "data": {
      "text/plain": [
       "[1, 3, 5, 7, 9, 11, 13, 15, 17, 19, 21, 23, 25]"
      ]
     },
     "execution_count": 9,
     "metadata": {},
     "output_type": "execute_result"
    }
   ],
   "source": [
    "func()"
   ]
  },
  {
   "cell_type": "code",
   "execution_count": 1,
   "id": "4348ad59-9637-4c40-ac48-c0566d0bb0cc",
   "metadata": {},
   "outputs": [
    {
     "name": "stdout",
     "output_type": "stream",
     "text": [
      "reetesh\n",
      "23\n",
      "srivastava\n"
     ]
    }
   ],
   "source": [
    "#Q2: *args is used for taking variable no. of inputs from the user, while kwargs is used for taking keyworded variable no. of inputs.\n",
    "def arg(*args):\n",
    "    for a in args:\n",
    "        print(a)\n",
    "arg(\"reetesh\", 23,\"srivastava\")"
   ]
  },
  {
   "cell_type": "code",
   "execution_count": 6,
   "id": "e64def99-6d62-47ba-89ac-c31dc96f1c1d",
   "metadata": {},
   "outputs": [
    {
     "name": "stdout",
     "output_type": "stream",
     "text": [
      "first_name reetesh\n",
      "age 26\n",
      "last_name srivastava\n"
     ]
    }
   ],
   "source": [
    "def arg(**kwargs):\n",
    "    for key,value in kwargs.items():\n",
    "        print(key, value)\n",
    "arg(first_name=\"reetesh\",age= 26, last_name=\"srivastava\")"
   ]
  },
  {
   "cell_type": "code",
   "execution_count": null,
   "id": "2d2f7226-f279-41e9-bd1c-1272ab08d4d9",
   "metadata": {},
   "outputs": [],
   "source": [
    "#Q3: Iterators in python are objects used to iterate over an iterable object. \n",
    "   # iter() method is used to initialize iterator object and next() function is used for iteration\n"
   ]
  },
  {
   "cell_type": "code",
   "execution_count": 5,
   "id": "d5594b0b-be0e-40e6-a93e-097fd66fdd7c",
   "metadata": {},
   "outputs": [
    {
     "name": "stdout",
     "output_type": "stream",
     "text": [
      "2\n",
      "4\n",
      "6\n"
     ]
    }
   ],
   "source": [
    "l =  [2, 4, 6, 8, 10, 12, 14,16, 18, 20]\n",
    "l = iter(l)\n",
    "print(next(l))\n",
    "print(next(l))\n",
    "print(next(l))"
   ]
  },
  {
   "cell_type": "code",
   "execution_count": 6,
   "id": "a9d969a0-97dd-4a5a-8982-d8dbd2cc0bc5",
   "metadata": {},
   "outputs": [],
   "source": [
    "#Q4: A Generator in Python is a function that returns an iterator using the Yield keyword.\n",
    "# Yield keyword is used to return the expression as iterator and pause the execution until user iterates over the generator object."
   ]
  },
  {
   "cell_type": "code",
   "execution_count": 5,
   "id": "008ef6df-78e1-4056-965a-abe10248de9d",
   "metadata": {},
   "outputs": [],
   "source": [
    "#Q5\n",
    "def prime():\n",
    "    n=1000\n",
    "    for i in range(2,1000):\n",
    "        for j in range(2,int(i/2+1)):\n",
    "            if i%j == 0: \n",
    "                break       \n",
    "        else:\n",
    "            yield(i)\n",
    "     \n",
    "            "
   ]
  },
  {
   "cell_type": "code",
   "execution_count": 6,
   "id": "060b1f91-b2c1-404a-b5da-ccc9707ce7cf",
   "metadata": {},
   "outputs": [
    {
     "name": "stdout",
     "output_type": "stream",
     "text": [
      "2\n",
      "3\n",
      "5\n",
      "7\n",
      "11\n",
      "13\n",
      "17\n",
      "19\n",
      "23\n",
      "29\n",
      "31\n",
      "37\n",
      "41\n",
      "43\n",
      "47\n",
      "53\n",
      "59\n",
      "61\n",
      "67\n",
      "71\n"
     ]
    }
   ],
   "source": [
    "a = prime()\n",
    "for i in range(20):\n",
    "    print(next(a))\n",
    "    "
   ]
  },
  {
   "cell_type": "code",
   "execution_count": 27,
   "id": "26bbb0d4-9cca-4b0a-9a13-6804f7d5bfe1",
   "metadata": {},
   "outputs": [
    {
     "name": "stdout",
     "output_type": "stream",
     "text": [
      "0 1 1 2 3 5 8 13 21 34 "
     ]
    }
   ],
   "source": [
    "#Q6:\n",
    "a,b = 0,1\n",
    "n=1\n",
    "print(a,b,end =\" \")\n",
    "while n<=8:\n",
    "    print(a+b,end = \" \")\n",
    "    a,b = b,a+b\n",
    "    n+=1\n",
    "    "
   ]
  },
  {
   "cell_type": "code",
   "execution_count": 28,
   "id": "ab20ecbd-61bc-4230-9158-e0c0bbb8bd4c",
   "metadata": {},
   "outputs": [
    {
     "data": {
      "text/plain": [
       "['p', 'w', 's', 'k', 'i', 'l', 'l', 's']"
      ]
     },
     "execution_count": 28,
     "metadata": {},
     "output_type": "execute_result"
    }
   ],
   "source": [
    "#Q7\n",
    "s = \"pwskills\"\n",
    "l = [a for a in s]\n",
    "l"
   ]
  },
  {
   "cell_type": "code",
   "execution_count": 7,
   "id": "c561c9ea-341b-42a9-8079-c8215a147ba2",
   "metadata": {},
   "outputs": [
    {
     "name": "stdin",
     "output_type": "stream",
     "text": [
      "enter a Number :-  1221\n"
     ]
    },
    {
     "name": "stdout",
     "output_type": "stream",
     "text": [
      "number is palindrome\n"
     ]
    }
   ],
   "source": [
    "#Q8:\n",
    "s = input(\"enter a Number :- \")\n",
    "a = s[-1::-1]\n",
    "if a==s:\n",
    "    print(\"number is palindrome\")\n",
    "else:\n",
    "    print(\"not a palindrome\")\n",
    "\n",
    "    "
   ]
  },
  {
   "cell_type": "code",
   "execution_count": 13,
   "id": "b3478273-ddd3-454e-8ee9-e7530a39da8d",
   "metadata": {},
   "outputs": [],
   "source": [
    "#Q9\n",
    "l = [a for a in range(1,101)]\n",
    "l1 = list(filter(lambda x:x%2!=0,l))"
   ]
  },
  {
   "cell_type": "code",
   "execution_count": 14,
   "id": "fd94bdde-9b49-455c-996a-72f3b8070402",
   "metadata": {},
   "outputs": [
    {
     "name": "stdout",
     "output_type": "stream",
     "text": [
      "[1, 3, 5, 7, 9, 11, 13, 15, 17, 19, 21, 23, 25, 27, 29, 31, 33, 35, 37, 39, 41, 43, 45, 47, 49, 51, 53, 55, 57, 59, 61, 63, 65, 67, 69, 71, 73, 75, 77, 79, 81, 83, 85, 87, 89, 91, 93, 95, 97, 99]"
     ]
    }
   ],
   "source": [
    "print(l1, end = \"\")"
   ]
  },
  {
   "cell_type": "code",
   "execution_count": null,
   "id": "4b9f2a7d-429e-497f-bd86-6f40fb4b284e",
   "metadata": {},
   "outputs": [],
   "source": []
  }
 ],
 "metadata": {
  "kernelspec": {
   "display_name": "Python 3 (ipykernel)",
   "language": "python",
   "name": "python3"
  },
  "language_info": {
   "codemirror_mode": {
    "name": "ipython",
    "version": 3
   },
   "file_extension": ".py",
   "mimetype": "text/x-python",
   "name": "python",
   "nbconvert_exporter": "python",
   "pygments_lexer": "ipython3",
   "version": "3.10.8"
  }
 },
 "nbformat": 4,
 "nbformat_minor": 5
}
